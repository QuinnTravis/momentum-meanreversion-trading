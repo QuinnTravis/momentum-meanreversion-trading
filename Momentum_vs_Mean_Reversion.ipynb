{
  "nbformat": 4,
  "nbformat_minor": 0,
  "metadata": {
    "colab": {
      "provenance": []
    },
    "kernelspec": {
      "name": "python3",
      "display_name": "Python 3"
    },
    "language_info": {
      "name": "python"
    }
  },
  "cells": [
    {
      "cell_type": "code",
      "execution_count": null,
      "metadata": {
        "id": "9-ncFN9F6YvZ"
      },
      "outputs": [],
      "source": [
        "import pandas as pd\n",
        "import numpy as np\n",
        "import matplotlib.pyplot as plt\n"
      ]
    },
    {
      "cell_type": "code",
      "source": [
        "from google.colab import files\n",
        "uploaded = files.upload()\n",
        "print(uploaded)"
      ],
      "metadata": {
        "id": "2To8Egq7U37C"
      },
      "execution_count": null,
      "outputs": []
    },
    {
      "cell_type": "code",
      "source": [
        "df = pd.read_csv('all_stocks_5yr.csv')"
      ],
      "metadata": {
        "id": "W7p8W7vaWBzS"
      },
      "execution_count": null,
      "outputs": []
    },
    {
      "cell_type": "code",
      "source": [
        "df['date'] = pd.to_datetime(df['date'])\n",
        "df.set_index('date', inplace=True)\n"
      ],
      "metadata": {
        "id": "kLih7G6mWHqk"
      },
      "execution_count": null,
      "outputs": []
    },
    {
      "cell_type": "code",
      "source": [
        "df.head()"
      ],
      "metadata": {
        "id": "ipmM-GccWlS-"
      },
      "execution_count": null,
      "outputs": []
    },
    {
      "cell_type": "code",
      "source": [
        "df['return'] = df['close'].pct_change()\n"
      ],
      "metadata": {
        "id": "eLopEkr5W3MK"
      },
      "execution_count": null,
      "outputs": []
    },
    {
      "cell_type": "code",
      "source": [
        "df.head()"
      ],
      "metadata": {
        "id": "q8QG94acXD4F"
      },
      "execution_count": null,
      "outputs": []
    },
    {
      "cell_type": "code",
      "source": [
        "window = 10\n",
        "df['Momentum_Signal'] = np.where(df['close'].pct_change(window) > 0, 1, 0)\n"
      ],
      "metadata": {
        "id": "AkDQsp1qXBE6"
      },
      "execution_count": null,
      "outputs": []
    },
    {
      "cell_type": "code",
      "source": [
        "df['Momentum_Strategy'] = df['Momentum_Signal'].shift(1) * df['return']\n"
      ],
      "metadata": {
        "id": "epLR2cxYXKQm"
      },
      "execution_count": null,
      "outputs": []
    },
    {
      "cell_type": "code",
      "source": [
        "df['Momentum_Cum'] = (1 + df['Momentum_Strategy']).cumprod()\n",
        "df['SP500_Cum'] = (1 + df['return']).cumprod()\n"
      ],
      "metadata": {
        "id": "J_zLk_RyXOcp"
      },
      "execution_count": null,
      "outputs": []
    },
    {
      "cell_type": "code",
      "source": [
        "ma_window = 20\n",
        "df['MA20'] = df['close'].rolling(ma_window).mean()\n"
      ],
      "metadata": {
        "id": "KN3uo27xXT5m"
      },
      "execution_count": null,
      "outputs": []
    },
    {
      "cell_type": "code",
      "source": [
        "df['MeanRev_Signal'] = np.where(df['close'] < df['MA20'], 1, -1)  # buy if below MA, sell if above\n"
      ],
      "metadata": {
        "id": "uji2hK3WXYjJ"
      },
      "execution_count": null,
      "outputs": []
    },
    {
      "cell_type": "code",
      "source": [
        "df['MeanRev_Strategy'] = df['MeanRev_Signal'].shift(1) * df['return']\n",
        "df['MeanRev_Cum'] = (1 + df['MeanRev_Strategy']).cumprod()\n"
      ],
      "metadata": {
        "id": "38mwX3aNXcoa"
      },
      "execution_count": null,
      "outputs": []
    },
    {
      "cell_type": "code",
      "source": [
        "plt.figure(figsize=(12,6))\n",
        "plt.plot(df['SP500_Cum'], label='S&P 500')\n",
        "plt.plot(df['Momentum_Cum'], label='Momentum Strategy')\n",
        "plt.plot(df['MeanRev_Cum'], label='Mean-Reversion Strategy')\n",
        "plt.legend()\n",
        "plt.show()\n"
      ],
      "metadata": {
        "id": "lBmoUU1RXmsb"
      },
      "execution_count": null,
      "outputs": []
    }
  ]
}