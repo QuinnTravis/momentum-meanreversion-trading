{
  "nbformat": 4,
  "nbformat_minor": 0,
  "metadata": {
    "colab": {
      "provenance": []
    },
    "kernelspec": {
      "name": "python3",
      "display_name": "Python 3"
    },
    "language_info": {
      "name": "python"
    }
  },
  "cells": [
    {
      "cell_type": "code",
      "execution_count": null,
      "metadata": {
        "id": "8oAwwnedRM6i"
      },
      "outputs": [],
      "source": [
        "#STEP 1: IMPORTING RELEVANT LIBRARIES\n",
        "import pandas as pd\n",
        "import numpy as np\n",
        "import matplotlib.pyplot as plt"
      ]
    },
    {
      "cell_type": "code",
      "source": [
        "#STEP 2: IMPORTING DATA\n",
        "from google.colab import files\n",
        "uploaded = files.upload()"
      ],
      "metadata": {
        "id": "4vHqmvApRSIQ"
      },
      "execution_count": null,
      "outputs": []
    },
    {
      "cell_type": "code",
      "source": [
        "#STEP 3: PREPARE DATA\n",
        "df = pd.read_csv('all_stocks_5yr.csv')\n",
        "df['date'] = pd.to_datetime(df['date'])\n",
        "df.set_index('date', inplace=True)\n"
      ],
      "metadata": {
        "id": "-zR_yNnfRWEO"
      },
      "execution_count": null,
      "outputs": []
    },
    {
      "cell_type": "code",
      "source": [
        "#STEP 4: FILTERING OUT ONE TICKER, IN THIS CASE APPLE\n",
        "ticker = 'AAPL'\n",
        "df = df[df['Name'] == ticker].copy()"
      ],
      "metadata": {
        "id": "As9V_zA5RXCk"
      },
      "execution_count": null,
      "outputs": []
    },
    {
      "cell_type": "code",
      "source": [
        "#STEP 5: COMPUTING DAILY RETURNS\n",
        "df['return'] = df['close'].pct_change()"
      ],
      "metadata": {
        "id": "9-r-40njRZuj"
      },
      "execution_count": null,
      "outputs": []
    },
    {
      "cell_type": "code",
      "source": [
        "#UTILITY FUNCTION 1 : COMPUTING ANNUALIZED SHARPE RATIOS\n",
        "def sharpe_ratio(returns, rf=0.0):\n",
        "    \"\"\"Annualized Sharpe ratio\"\"\"\n",
        "    return np.sqrt(252) * (returns.mean() - rf) / returns.std()"
      ],
      "metadata": {
        "id": "mutSP_uSRbQb"
      },
      "execution_count": null,
      "outputs": []
    },
    {
      "cell_type": "code",
      "source": [
        "#UTILITY FUNCTION 2 : CALCULATE LARGEST OBSERVED DROP\n",
        "def max_drawdown(cum_returns):\n",
        "    \"\"\"Maximum drawdown\"\"\"\n",
        "    roll_max = cum_returns.cummax()\n",
        "    drawdown = cum_returns / roll_max - 1\n",
        "    return drawdown.min()"
      ],
      "metadata": {
        "id": "xqKHqOHHRc8p"
      },
      "execution_count": null,
      "outputs": []
    },
    {
      "cell_type": "code",
      "source": [
        "#MOMENTUM STRATEGY\n",
        "def backtest_momentum(window):\n",
        "    \"\"\"Backtest momentum strategy with given lookback window\"\"\"\n",
        "    df['Momentum_Signal'] = np.where(df['close'].pct_change(window) > 0, 1, -1)\n",
        "    df['Momentum_Strategy'] = df['Momentum_Signal'].shift(1) * df['return']\n",
        "    cum_ret = (1 + df['Momentum_Strategy']).cumprod()\n",
        "    return cum_ret, sharpe_ratio(df['Momentum_Strategy']), max_drawdown(cum_ret)"
      ],
      "metadata": {
        "id": "YYFhBmtKRet1"
      },
      "execution_count": null,
      "outputs": []
    },
    {
      "cell_type": "code",
      "source": [
        "#MEAN STRATEGY\n",
        "def backtest_mean_reversion(ma_window, z_thresh=1.0):\n",
        "    \"\"\"Backtest mean-reversion strategy using z-scores\"\"\"\n",
        "    rolling_mean = df['close'].rolling(ma_window).mean()\n",
        "    rolling_std = df['close'].rolling(ma_window).std()\n",
        "    z_score = (df['close'] - rolling_mean) / rolling_std\n",
        "    df['MeanRev_Signal'] = np.where(z_score < -z_thresh, 1,\n",
        "                           np.where(z_score > z_thresh, -1, 0))\n",
        "    df['MeanRev_Strategy'] = df['MeanRev_Signal'].shift(1) * df['return']\n",
        "    cum_ret = (1 + df['MeanRev_Strategy']).cumprod()\n",
        "    return cum_ret, sharpe_ratio(df['MeanRev_Strategy']), max_drawdown(cum_ret)"
      ],
      "metadata": {
        "id": "si07b2VQRgXo"
      },
      "execution_count": null,
      "outputs": []
    },
    {
      "cell_type": "code",
      "source": [
        "#OPTIMAL PARAMETERS SEARCH\n",
        "momentum_windows = [5, 10, 20, 30, 60]\n",
        "momentum_results = {}\n",
        "for w in momentum_windows:\n",
        "    _, s, _ = backtest_momentum(w)\n",
        "    momentum_results[w] = s\n",
        "best_mom_window = max(momentum_results, key=momentum_results.get)\n",
        "print(f\"Best Momentum Window: {best_mom_window} days (Sharpe={momentum_results[best_mom_window]:.2f})\")"
      ],
      "metadata": {
        "id": "2LwgmB1tRh6Q"
      },
      "execution_count": null,
      "outputs": []
    },
    {
      "cell_type": "code",
      "source": [
        "#FINAL EVALUATION OF STRATEGIES\n",
        "meanrev_windows = [10, 20, 30, 60]\n",
        "meanrev_results = {}\n",
        "for w in meanrev_windows:\n",
        "    _, s, _ = backtest_mean_reversion(w)\n",
        "    meanrev_results[w] = s\n",
        "best_meanrev_window = max(meanrev_results, key=meanrev_results.get)\n",
        "print(f\"Best Mean-Reversion Window: {best_meanrev_window} days (Sharpe={meanrev_results[best_meanrev_window]:.2f})\")"
      ],
      "metadata": {
        "id": "yMnQG0XrRmsO"
      },
      "execution_count": null,
      "outputs": []
    },
    {
      "cell_type": "code",
      "source": [
        "mom_cum, mom_sharpe, mom_dd = backtest_momentum(best_mom_window)\n",
        "meanrev_cum, meanrev_sharpe, meanrev_dd = backtest_mean_reversion(best_meanrev_window)\n",
        "df['Benchmark_Cum'] = (1 + df['return']).cumprod()"
      ],
      "metadata": {
        "id": "_Ub32vmTRpRu"
      },
      "execution_count": null,
      "outputs": []
    },
    {
      "cell_type": "code",
      "source": [
        "#VISUALISING\n",
        "plt.figure(figsize=(12,6))\n",
        "plt.plot(df['Benchmark_Cum'], label='S&P 500 Benchmark', linewidth=2)\n",
        "plt.plot(mom_cum, label=f'Momentum (Sharpe={mom_sharpe:.2f}, DD={mom_dd:.2%})', linestyle='--')\n",
        "plt.plot(meanrev_cum, label=f'Mean Reversion (Sharpe={meanrev_sharpe:.2f}, DD={meanrev_dd:.2%})', linestyle=':')\n",
        "plt.title(f'{ticker} — Strategy Performance')\n",
        "plt.xlabel('Date')\n",
        "plt.ylabel('Cumulative Returns')\n",
        "plt.legend()\n",
        "plt.grid(True)\n",
        "plt.tight_layout()\n",
        "plt.show()"
      ],
      "metadata": {
        "id": "FJbIDS7wRpya"
      },
      "execution_count": null,
      "outputs": []
    },
    {
      "cell_type": "code",
      "source": [
        "#PRINTING\n",
        "print(\"\\nPerformance Summary\")\n",
        "print(f\"Momentum: Sharpe={mom_sharpe:.2f}, Max Drawdown={mom_dd:.2%}\")\n",
        "print(f\"Mean Reversion: Sharpe={meanrev_sharpe:.2f}, Max Drawdown={meanrev_dd:.2%}\")"
      ],
      "metadata": {
        "id": "fi1SB793Rs20"
      },
      "execution_count": null,
      "outputs": []
    }
  ]
}